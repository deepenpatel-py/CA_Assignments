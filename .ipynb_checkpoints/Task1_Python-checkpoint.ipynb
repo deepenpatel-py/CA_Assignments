{
 "cells": [
  {
   "cell_type": "code",
   "execution_count": 1,
   "metadata": {},
   "outputs": [],
   "source": [
    "# ASSIGNMENTS\n",
    "# TASK ONE: NUMBERS AND VARIABLES\n",
    "# 1.\tCreate three variables in a single a line and assign different values to them and make sure their data types are different. Like one is int, another one is float and the last one is a string.\n",
    "\n",
    "i_var = 123\n",
    "f_var = 1.2\n",
    "s_var = 'Deepen'"
   ]
  },
  {
   "cell_type": "code",
   "execution_count": 2,
   "metadata": {},
   "outputs": [],
   "source": [
    "#2. \tCreate a variable of value type complex and swap it with another variable whose value is an integer.\n",
    "c_var = 3.14j\n",
    "\n",
    "c_var = i_var"
   ]
  },
  {
   "cell_type": "code",
   "execution_count": 2,
   "metadata": {},
   "outputs": [
    {
     "name": "stdout",
     "output_type": "stream",
     "text": [
      "a=2,b=1\n"
     ]
    }
   ],
   "source": [
    "#3. \tSwap two numbers using the third variable as the result name and do the same task without using any third variable.\n",
    "\n",
    "a=1\n",
    "b=2\n",
    "temp = a\n",
    "a = b \n",
    "b = temp\n",
    "\n",
    "print(f'a={a},b={b}')"
   ]
  },
  {
   "cell_type": "code",
   "execution_count": null,
   "metadata": {},
   "outputs": [],
   "source": [
    "#4. \tWrite a program to print the value given by the user by using both Python 2.x and Python 3.x Version.\n",
    "#python 2.x\n",
    "# name = raw_input('enter your name ')\n",
    "# print 'name'\n",
    "\n",
    "#python 3.x\n",
    "name = input('enter your name ')\n",
    "print (name)"
   ]
  },
  {
   "cell_type": "code",
   "execution_count": null,
   "metadata": {},
   "outputs": [],
   "source": [
    "#5. \tWrite a program to complete the task given below:\n",
    "# Ask the user to enter any 2 numbers in between 1-10 and add both of them to another variable call z.\n",
    "z = 0\n",
    "for i in range (2):\n",
    "\tnum = int(input('Enter any number between  1-10 : '))\n",
    "\tz = z + num\n",
    "\ti+=1\n",
    "print(f'sum of two number is z = {z}')\n",
    "\n",
    "# Use z for adding 30 into it and print the final result by using variable result.\n",
    "z+=30\n",
    "print(f'Value of Z after adding 30 is {z}')"
   ]
  },
  {
   "cell_type": "code",
   "execution_count": 6,
   "metadata": {},
   "outputs": [
    {
     "name": "stdout",
     "output_type": "stream",
     "text": [
      "enter value to check the data type5\n",
      "The input data type is:<class 'int'>\n"
     ]
    }
   ],
   "source": [
    "# 6. \tWrite a program to check the data type of the entered values. HINT: Printed output should say -  The input value data type is: int/float/string/etc\n",
    "user_input = eval(input('enter value to check the data type'))\n",
    "print(f'The input data type is:{type(user_input)}')"
   ]
  },
  {
   "cell_type": "code",
   "execution_count": 7,
   "metadata": {},
   "outputs": [],
   "source": [
    "# 7. \tCreate Variable using CamelCase, LadderCase and UPPERCASE. (Refer:   https://capitalizemytitle.com/camel-case/) - Variable Conventions to write\n",
    "Variable = 10\n",
    "variable = 12\n",
    "VARIABLES = 14"
   ]
  },
  {
   "cell_type": "code",
   "execution_count": 8,
   "metadata": {},
   "outputs": [],
   "source": [
    "# 8. \tIf one data type value is assigned to ‘a’ variable and then a different data type value is assigned to ‘a’ again. Will it change the value. If Yes then Why?\n",
    "# yes, because python is dynamic language and the data type of the variable changes, when a different data type value is aasigned to that variable.\n",
    " "
   ]
  }
 ],
 "metadata": {
  "kernelspec": {
   "display_name": "Python 3",
   "language": "python",
   "name": "python3"
  },
  "language_info": {
   "codemirror_mode": {
    "name": "ipython",
    "version": 3
   },
   "file_extension": ".py",
   "mimetype": "text/x-python",
   "name": "python",
   "nbconvert_exporter": "python",
   "pygments_lexer": "ipython3",
   "version": "3.7.6"
  }
 },
 "nbformat": 4,
 "nbformat_minor": 4
}
